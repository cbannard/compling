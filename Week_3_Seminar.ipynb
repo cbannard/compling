{
 "cells": [
  {
   "cell_type": "markdown",
   "id": "ada7675f",
   "metadata": {
    "id": "ada7675f"
   },
   "source": [
    "# LELA32051 Computational Linguistics Week 3"
   ]
  },
  {
   "cell_type": "markdown",
   "id": "7ab6c546-7b79-4f4d-8c70-ce361255fbd9",
   "metadata": {
    "id": "7ab6c546-7b79-4f4d-8c70-ce361255fbd9"
   },
   "source": [
    "## Natural Language Toolkit"
   ]
  },
  {
   "cell_type": "markdown",
   "id": "c380e17a",
   "metadata": {
    "id": "c380e17a"
   },
   "source": [
    "So far we have looked at the core Python programming language and the re library. However much of the time this semester we will be making use of even more  powerful libraries for natural language processing and machine learning. Today we will make use of a few of these. The first of is \"Natural Language Toolkit\" or nltk (http://www.nltk.org/).\n",
    "\n",
    "The first thing we need to do is to make sure we have the libraries we want installed. On Google Colab they are all already there. If your are using your own machine you will have to install it using the following command (unlike for re which is present by default and just needs to be loaded).\n",
    "\n"
   ]
  },
  {
   "cell_type": "markdown",
   "id": "4dc64494-0e13-4efd-ac85-9568afb2d43a",
   "metadata": {
    "id": "7bec0c63"
   },
   "source": [
    "!pip install nltk # If using anaconda convert this to a code window and run"
   ]
  },
  {
   "cell_type": "markdown",
   "id": "3ab644be",
   "metadata": {
    "id": "3ab644be"
   },
   "source": [
    "In order to use the library we then need to import it"
   ]
  },
  {
   "cell_type": "code",
   "execution_count": null,
   "id": "07639361",
   "metadata": {
    "executionInfo": {
     "elapsed": 1009,
     "status": "ok",
     "timestamp": 1634140608510,
     "user": {
      "displayName": "Colin Bannard",
      "photoUrl": "https://lh3.googleusercontent.com/a-/AOh14Ggu3NcIkMWzsy6zxo7AXqwviYA_hgjuzVq_zKWseQ=s64",
      "userId": "01716265927303848317"
     },
     "user_tz": -60
    },
    "id": "07639361"
   },
   "outputs": [],
   "source": [
    "import nltk"
   ]
  },
  {
   "cell_type": "markdown",
   "id": "dc28b620",
   "metadata": {
    "id": "dc28b620"
   },
   "source": [
    "### Tokenising"
   ]
  },
  {
   "cell_type": "code",
   "execution_count": null,
   "id": "sXDZHherWtE4",
   "metadata": {
    "colab": {
     "base_uri": "https://localhost:8080/"
    },
    "executionInfo": {
     "elapsed": 15953,
     "status": "ok",
     "timestamp": 1634140584360,
     "user": {
      "displayName": "Colin Bannard",
      "photoUrl": "https://lh3.googleusercontent.com/a-/AOh14Ggu3NcIkMWzsy6zxo7AXqwviYA_hgjuzVq_zKWseQ=s64",
      "userId": "01716265927303848317"
     },
     "user_tz": -60
    },
    "id": "sXDZHherWtE4",
    "outputId": "c07af3b0-0f1d-4415-d8ec-85bd135808ae"
   },
   "outputs": [],
   "source": [
    "!wget https://www.gutenberg.org/files/2554/2554-0.txt"
   ]
  },
  {
   "cell_type": "code",
   "execution_count": null,
   "id": "99ec7513",
   "metadata": {
    "id": "99ec7513"
   },
   "outputs": [],
   "source": [
    "f = open('2554-0.txt')\n",
    "raw = f.read()\n",
    "chapter_one = raw[5464:23725]"
   ]
  },
  {
   "cell_type": "code",
   "execution_count": null,
   "id": "b6d4a46b",
   "metadata": {
    "colab": {
     "base_uri": "https://localhost:8080/"
    },
    "executionInfo": {
     "elapsed": 876,
     "status": "ok",
     "timestamp": 1634140647633,
     "user": {
      "displayName": "Colin Bannard",
      "photoUrl": "https://lh3.googleusercontent.com/a-/AOh14Ggu3NcIkMWzsy6zxo7AXqwviYA_hgjuzVq_zKWseQ=s64",
      "userId": "01716265927303848317"
     },
     "user_tz": -60
    },
    "id": "b6d4a46b",
    "outputId": "d08c37f0-e832-4b93-893a-21c34e38d6a1"
   },
   "outputs": [],
   "source": [
    "nltk.download('punkt')\n",
    "chapter_one_tokens = nltk.word_tokenize(chapter_one)"
   ]
  },
  {
   "cell_type": "markdown",
   "id": "a5cbf1e2-e49e-42fa-8e40-d79e9f8a90a5",
   "metadata": {
    "id": "a5cbf1e2-e49e-42fa-8e40-d79e9f8a90a5"
   },
   "source": [
    "If you prefer (e.g. if you find that the default tokenizer isn't doing what you want which is only likely to happen if you have a special requirement for a project) you can implement a regular expression-based tokenizer. This finds occurences of the pattern provided and returns the text that occurs between those occurences as tokens."
   ]
  },
  {
   "cell_type": "code",
   "execution_count": null,
   "id": "bea1f199-a2ab-457b-a2c3-c2377bab37f5",
   "metadata": {
    "id": "bea1f199-a2ab-457b-a2c3-c2377bab37f5"
   },
   "outputs": [],
   "source": [
    "ret = nltk.tokenize.RegexpTokenizer(\" \", gaps=True)\n",
    "ret.tokenize(chapter_one)"
   ]
  },
  {
   "cell_type": "markdown",
   "id": "5bc2fb31-aa51-4934-bd12-0cb8973d4c23",
   "metadata": {
    "id": "5bc2fb31-aa51-4934-bd12-0cb8973d4c23"
   },
   "source": [
    "### Sentence Segmentation"
   ]
  },
  {
   "cell_type": "code",
   "execution_count": null,
   "id": "e1b644fc",
   "metadata": {
    "colab": {
     "base_uri": "https://localhost:8080/"
    },
    "executionInfo": {
     "elapsed": 412,
     "status": "ok",
     "timestamp": 1634140678466,
     "user": {
      "displayName": "Colin Bannard",
      "photoUrl": "https://lh3.googleusercontent.com/a-/AOh14Ggu3NcIkMWzsy6zxo7AXqwviYA_hgjuzVq_zKWseQ=s64",
      "userId": "01716265927303848317"
     },
     "user_tz": -60
    },
    "id": "e1b644fc",
    "outputId": "4b6b51d8-ce21-4e44-d294-289e53c8d704"
   },
   "outputs": [],
   "source": [
    "chapter_one_sentences = nltk.sent_tokenize(' '.join(chapter_one_tokens))\n",
    "print(chapter_one_sentences[0])"
   ]
  },
  {
   "cell_type": "markdown",
   "id": "2e5d92df-d481-45e4-a1e3-6d4543de4586",
   "metadata": {
    "id": "2e5d92df-d481-45e4-a1e3-6d4543de4586"
   },
   "source": [
    "### Stemming"
   ]
  },
  {
   "cell_type": "code",
   "execution_count": null,
   "id": "ca5b84f1-608a-4911-ba4e-9b1972af43c6",
   "metadata": {
    "colab": {
     "base_uri": "https://localhost:8080/"
    },
    "executionInfo": {
     "elapsed": 871,
     "status": "ok",
     "timestamp": 1634140693286,
     "user": {
      "displayName": "Colin Bannard",
      "photoUrl": "https://lh3.googleusercontent.com/a-/AOh14Ggu3NcIkMWzsy6zxo7AXqwviYA_hgjuzVq_zKWseQ=s64",
      "userId": "01716265927303848317"
     },
     "user_tz": -60
    },
    "id": "ca5b84f1-608a-4911-ba4e-9b1972af43c6",
    "outputId": "5899ef45-c3f0-4d71-90ae-2ff9b1aad8fe"
   },
   "outputs": [],
   "source": [
    "porter = nltk.PorterStemmer()\n",
    "for t in chapter_one_tokens:\n",
    "    print(porter.stem(t),end=\" \")"
   ]
  },
  {
   "cell_type": "markdown",
   "id": "2526b3c5-d4c3-40fb-891c-b36935baf5e3",
   "metadata": {
    "id": "2526b3c5-d4c3-40fb-891c-b36935baf5e3"
   },
   "source": [
    "### Lemmatising"
   ]
  },
  {
   "cell_type": "code",
   "execution_count": null,
   "id": "afd979cf-a661-4288-91ca-70deb443e8e3",
   "metadata": {
    "colab": {
     "base_uri": "https://localhost:8080/"
    },
    "executionInfo": {
     "elapsed": 2936,
     "status": "ok",
     "timestamp": 1634140709679,
     "user": {
      "displayName": "Colin Bannard",
      "photoUrl": "https://lh3.googleusercontent.com/a-/AOh14Ggu3NcIkMWzsy6zxo7AXqwviYA_hgjuzVq_zKWseQ=s64",
      "userId": "01716265927303848317"
     },
     "user_tz": -60
    },
    "id": "afd979cf-a661-4288-91ca-70deb443e8e3",
    "outputId": "8ef07d1d-737a-4414-9e77-9c3670f1d2f3"
   },
   "outputs": [],
   "source": [
    "nltk.download('wordnet')\n",
    "wnl = nltk.WordNetLemmatizer()\n",
    "for t in chapter_one_tokens:\n",
    "    print(wnl.lemmatize(t),end=\" \")"
   ]
  },
  {
   "cell_type": "markdown",
   "id": "904101cb-91ef-47ab-b918-a7ba7e743bf5",
   "metadata": {
    "id": "904101cb-91ef-47ab-b918-a7ba7e743bf5"
   },
   "source": [
    "# Vector semantics"
   ]
  },
  {
   "cell_type": "markdown",
   "id": "8Zj1DoDsYQQV",
   "metadata": {
    "id": "8Zj1DoDsYQQV"
   },
   "source": [
    "In this week's lecture you heard about Vector-based semantics. Today we will take a look at these models in Python. First we will build a co-occurence model from the now very familiar Crime and Punishment. "
   ]
  },
  {
   "cell_type": "markdown",
   "id": "de36ce0b-40cb-4670-ae95-95056251eacc",
   "metadata": {},
   "source": [
    "First we will use nltk to segment and tokenize the whole novel."
   ]
  },
  {
   "cell_type": "code",
   "execution_count": null,
   "id": "486440c1-da92-46fb-99fe-ee91accfd87c",
   "metadata": {
    "executionInfo": {
     "elapsed": 2813,
     "status": "ok",
     "timestamp": 1634141036095,
     "user": {
      "displayName": "Colin Bannard",
      "photoUrl": "https://lh3.googleusercontent.com/a-/AOh14Ggu3NcIkMWzsy6zxo7AXqwviYA_hgjuzVq_zKWseQ=s64",
      "userId": "01716265927303848317"
     },
     "user_tz": -60
    },
    "id": "486440c1-da92-46fb-99fe-ee91accfd87c"
   },
   "outputs": [],
   "source": [
    "C_and_P_tokens_sentences = []\n",
    "for sent in nltk.sent_tokenize(raw):\n",
    "    C_and_P_tokens_sentences.append(nltk.word_tokenize(sent))"
   ]
  },
  {
   "cell_type": "markdown",
   "id": "0965bfb9-8cab-445c-b131-b5735c028b68",
   "metadata": {},
   "source": [
    "Next we will build a cooccurence matrix using the following function. The purpose of this is to aid your conceptual understanding by looking at the output, and you aren't expected to read or understand this code. "
   ]
  },
  {
   "cell_type": "code",
   "execution_count": null,
   "id": "b2b0cd3e-8756-40ac-954e-46a54f09b597",
   "metadata": {
    "executionInfo": {
     "elapsed": 3249,
     "status": "ok",
     "timestamp": 1634141089200,
     "user": {
      "displayName": "Colin Bannard",
      "photoUrl": "https://lh3.googleusercontent.com/a-/AOh14Ggu3NcIkMWzsy6zxo7AXqwviYA_hgjuzVq_zKWseQ=s64",
      "userId": "01716265927303848317"
     },
     "user_tz": -60
    },
    "id": "b2b0cd3e-8756-40ac-954e-46a54f09b597"
   },
   "outputs": [],
   "source": [
    "import pandas as pd\n",
    "import numpy as np\n",
    "\n",
    "# Function from https://aegis4048.github.io/understanding_multi-dimensionality_in_vector_space_modeling\n",
    "def compute_co_occurrence_matrix(corpus, window_size=4): \n",
    "    \n",
    "    # Get a sorted list of all vocab items\n",
    "    distinct_words = sorted(list(set([word for sentence in corpus for word in sentence])))\n",
    "    # Find vocabulary size\n",
    "    num_words = len(distinct_words)\n",
    "    # Create a Word Dictionary mapping each word to a unique index\n",
    "    word2Ind = {word: index for index, word in enumerate(distinct_words)}\n",
    "    \n",
    "    # Create a numpy matrix in order to store co-occurence counts\n",
    "    M = np.zeros((num_words, num_words))\n",
    "\n",
    "    # Iterate over sentences in text\n",
    "    for sentence in corpus:\n",
    "        # Iterate over words in each sentence\n",
    "        for i, word in enumerate(sentence):      \n",
    "            # Find the index in the tokenized sentence vector for the beginning of the window (the current token minus window size or zero whichever is the lower)\n",
    "            begin = max(i - window_size, 0)\n",
    "            # Find the index in the tokenized sentence vector for the end of the window (the current token plus window size or the length of the sentence whichever is the lower)\n",
    "            end   = min(i + window_size, num_words)\n",
    "            # Extract the text from beginning of window to the end\n",
    "            context = sentence[begin: end + 1]\n",
    "            # Remove the target word from its own window \n",
    "            context.remove(sentence[i])\n",
    "            # Find the row for the current target word  \n",
    "            current_row = word2Ind[word]\n",
    "            # Iterate over the window for this target word\n",
    "            for token in context:\n",
    "                # Find the ID and hence the column index for the current token \n",
    "                current_col = word2Ind[token]\n",
    "                # Add 1 to the current context word dimension for the current target word\n",
    "                M[current_row, current_col] += 1\n",
    "    # Return the co-occurence matrix and the vocabulary to index \"dictionary\"\n",
    "    return M, word2Ind"
   ]
  },
  {
   "cell_type": "markdown",
   "id": "7a803921-b41d-482e-afac-86e6434672e5",
   "metadata": {},
   "source": [
    "This function allows us to specify the window that we use as context. We will use a window size of 5 words either side of each word."
   ]
  },
  {
   "cell_type": "code",
   "execution_count": null,
   "id": "803b1b51-5c1c-4090-ae2e-083011a44ef0",
   "metadata": {},
   "outputs": [],
   "source": [
    "M_co_occurrence, word2Ind_co_occurrence = compute_co_occurrence_matrix(C_and_P_tokens_sentences, window_size=5)\n",
    "\n",
    "semantic_space = pd.DataFrame(M_co_occurrence, index=word2Ind_co_occurrence.keys(), columns=word2Ind_co_occurrence.keys())"
   ]
  },
  {
   "cell_type": "markdown",
   "id": "2c9475be-3e0e-4705-b814-75e59455b11b",
   "metadata": {},
   "source": [
    "We can look at the size of the matrix"
   ]
  },
  {
   "cell_type": "code",
   "execution_count": null,
   "id": "4a8e37e6-f1af-4606-b386-4a15bfffb333",
   "metadata": {},
   "outputs": [],
   "source": [
    "semantic_space.shape"
   ]
  },
  {
   "cell_type": "markdown",
   "id": "d389f36b-2292-40f0-9edd-961e215d8f7d",
   "metadata": {},
   "source": [
    "We can look at a part of the semantic space like this:"
   ]
  },
  {
   "cell_type": "code",
   "execution_count": null,
   "id": "438e23db-cb06-4493-831f-069d552b9f9a",
   "metadata": {},
   "outputs": [],
   "source": [
    "semantic_space.head(20)"
   ]
  },
  {
   "cell_type": "markdown",
   "id": "555e8642-293f-4b37-a3d4-20b3e0ad89bf",
   "metadata": {},
   "source": [
    "And another example part like this:"
   ]
  },
  {
   "cell_type": "code",
   "execution_count": null,
   "id": "480e5de6-2a00-4596-b8d9-970322c8d33b",
   "metadata": {},
   "outputs": [],
   "source": [
    "semantic_space.iloc[200:220,200:220]"
   ]
  },
  {
   "cell_type": "markdown",
   "id": "fb763649-0593-41c7-b5a3-40ab9362dcbd",
   "metadata": {},
   "source": [
    "### Dimensionality reduction\n",
    "\n",
    "One thing you will notice is that even for this one text the matrix is enormous, and that it consists mostly of zeros.\n",
    "This makes them difficult to manage. We can address the first issue by just restricting the dimensions using a regular expression: "
   ]
  },
  {
   "cell_type": "code",
   "execution_count": null,
   "id": "51a8f6df-23ce-44c2-8b9c-f732d4b14d35",
   "metadata": {},
   "outputs": [],
   "source": [
    "semantic_space.filter(regex='[a-zA-Z]',axis=0).filter(regex='[a-zA-z]',axis=1)"
   ]
  },
  {
   "cell_type": "markdown",
   "id": "16567897-80ed-402d-883b-fd20afe7d694",
   "metadata": {},
   "source": [
    "We could also consider preprocessing the input text to e.g. make all words lower case, or lemmatizing so different forms of the same word are treated as the same dimension."
   ]
  },
  {
   "cell_type": "markdown",
   "id": "84d4e44e-df70-4800-9624-515f1f0f86fc",
   "metadata": {},
   "source": [
    "None of this however will reduce the number of zeros. What we want is to acquire a \"dense\" rather than a \"sparse\" matrix.\n",
    "\n",
    "There are two popular ways of doing this:\n",
    "\n",
    "1. Produce a count matrix and then compress it via a process known as dimensionality reduction (A method called \"Singular Value Decomposition\" is behind a popular approach known as \"latent semantic analysis\"). \n",
    "2. Learn dense vectors directly using neural networks (this is the best performing method but we'll not cover it yet as we've not learned about neural networks yet).\n",
    "\n",
    "As well as being easier to manage, dense vectors do better at capturing “second order” relations. Car and automobile are synonyms but they are distinct dimensions. A word with car as a neighbor and a word with automobile as a neighbor should be similar, but they aren't.\n"
   ]
  },
  {
   "cell_type": "markdown",
   "id": "948f663b-d220-4532-9758-7048c313b730",
   "metadata": {},
   "source": [
    "!pip install -U scikit-learn  # If using anaconda convert this to a code window and run"
   ]
  },
  {
   "cell_type": "code",
   "execution_count": null,
   "id": "287df5c7-b410-4cf0-b362-f9209b7066d9",
   "metadata": {},
   "outputs": [],
   "source": [
    "from sklearn.decomposition import TruncatedSVD\n",
    "def reduce_to_k_dim(M, n_components=2):\n",
    "    \n",
    "    svd = TruncatedSVD(n_components=n_components, n_iter=10, random_state=42)\n",
    "    M_reduced = svd.fit_transform(M_co_occurrence)  \n",
    "    \n",
    "    print('n_components =', n_components)\n",
    "    print('Explained Variance =', round(svd.explained_variance_ratio_.sum(), 3))\n",
    "    \n",
    "    return M_reduced"
   ]
  },
  {
   "cell_type": "code",
   "execution_count": null,
   "id": "bcfa6889-c5d5-42f2-8b44-39f9b8561e85",
   "metadata": {},
   "outputs": [],
   "source": [
    "M_reduced = reduce_to_k_dim(M_co_occurrence, n_components=2)"
   ]
  },
  {
   "cell_type": "code",
   "execution_count": null,
   "id": "a7310412-a3e4-45c2-96d9-ca25e0e2dba7",
   "metadata": {},
   "outputs": [],
   "source": [
    "semantic_space = pd.DataFrame(M_reduced, index=word2Ind_co_occurrence.keys())"
   ]
  },
  {
   "cell_type": "code",
   "execution_count": null,
   "id": "a90fb71b-a910-43af-a9b9-b4132bde1749",
   "metadata": {},
   "outputs": [],
   "source": [
    "semantic_space.shape"
   ]
  },
  {
   "cell_type": "code",
   "execution_count": null,
   "id": "11b1cad5-60f2-4551-a67d-fa5b30117dbd",
   "metadata": {},
   "outputs": [],
   "source": [
    "semantic_space.head(20)"
   ]
  },
  {
   "cell_type": "markdown",
   "id": "83ca3055-2046-40fe-a198-6dbf342d6bd8",
   "metadata": {
    "id": "83ca3055-2046-40fe-a198-6dbf342d6bd8"
   },
   "source": [
    "### Saving our vectors"
   ]
  },
  {
   "cell_type": "code",
   "execution_count": null,
   "id": "dd50c409-0787-4bc2-9046-d93c90d93dbf",
   "metadata": {
    "executionInfo": {
     "elapsed": 345,
     "status": "ok",
     "timestamp": 1634141102502,
     "user": {
      "displayName": "Colin Bannard",
      "photoUrl": "https://lh3.googleusercontent.com/a-/AOh14Ggu3NcIkMWzsy6zxo7AXqwviYA_hgjuzVq_zKWseQ=s64",
      "userId": "01716265927303848317"
     },
     "user_tz": -60
    },
    "id": "dd50c409-0787-4bc2-9046-d93c90d93dbf"
   },
   "outputs": [],
   "source": [
    "semantic_space.reset_index(level=0, inplace=True)"
   ]
  },
  {
   "cell_type": "code",
   "execution_count": null,
   "id": "bfde4f53-812b-4073-b548-a29956872f95",
   "metadata": {
    "executionInfo": {
     "elapsed": 90396,
     "status": "ok",
     "timestamp": 1634141194778,
     "user": {
      "displayName": "Colin Bannard",
      "photoUrl": "https://lh3.googleusercontent.com/a-/AOh14Ggu3NcIkMWzsy6zxo7AXqwviYA_hgjuzVq_zKWseQ=s64",
      "userId": "01716265927303848317"
     },
     "user_tz": -60
    },
    "id": "bfde4f53-812b-4073-b548-a29956872f95"
   },
   "outputs": [],
   "source": [
    "np.savetxt(r'np.txt', semantic_space.values,fmt='%s')"
   ]
  },
  {
   "cell_type": "markdown",
   "id": "fd4a9307-970d-4616-a331-8562959f7d47",
   "metadata": {
    "id": "fd4a9307-970d-4616-a331-8562959f7d47"
   },
   "source": [
    "# Using our Vectors"
   ]
  },
  {
   "cell_type": "code",
   "execution_count": null,
   "id": "048fcb05-e7bb-45d6-903d-e37fe8b61572",
   "metadata": {
    "colab": {
     "base_uri": "https://localhost:8080/"
    },
    "executionInfo": {
     "elapsed": 6535,
     "status": "ok",
     "timestamp": 1634141205077,
     "user": {
      "displayName": "Colin Bannard",
      "photoUrl": "https://lh3.googleusercontent.com/a-/AOh14Ggu3NcIkMWzsy6zxo7AXqwviYA_hgjuzVq_zKWseQ=s64",
      "userId": "01716265927303848317"
     },
     "user_tz": -60
    },
    "id": "048fcb05-e7bb-45d6-903d-e37fe8b61572",
    "outputId": "210cb72b-649c-4d2c-d3c4-d1db0fe6d359"
   },
   "outputs": [],
   "source": [
    "!pip install annoy\n",
    "!pip install torch torchvision "
   ]
  },
  {
   "cell_type": "code",
   "execution_count": null,
   "id": "969aeb9c-3268-4fd9-9b17-12d3d5cff87e",
   "metadata": {
    "executionInfo": {
     "elapsed": 466,
     "status": "ok",
     "timestamp": 1634141209545,
     "user": {
      "displayName": "Colin Bannard",
      "photoUrl": "https://lh3.googleusercontent.com/a-/AOh14Ggu3NcIkMWzsy6zxo7AXqwviYA_hgjuzVq_zKWseQ=s64",
      "userId": "01716265927303848317"
     },
     "user_tz": -60
    },
    "id": "969aeb9c-3268-4fd9-9b17-12d3d5cff87e"
   },
   "outputs": [],
   "source": [
    "import torch\n",
    "import torch.nn as nn\n",
    "from tqdm import tqdm\n",
    "from annoy import AnnoyIndex\n",
    "import numpy as np"
   ]
  },
  {
   "cell_type": "code",
   "execution_count": null,
   "id": "35656cef-b4d1-49c2-a399-91133a7b8fce",
   "metadata": {
    "executionInfo": {
     "elapsed": 3,
     "status": "ok",
     "timestamp": 1634141211557,
     "user": {
      "displayName": "Colin Bannard",
      "photoUrl": "https://lh3.googleusercontent.com/a-/AOh14Ggu3NcIkMWzsy6zxo7AXqwviYA_hgjuzVq_zKWseQ=s64",
      "userId": "01716265927303848317"
     },
     "user_tz": -60
    },
    "id": "35656cef-b4d1-49c2-a399-91133a7b8fce"
   },
   "outputs": [],
   "source": [
    "# Function from Rao, D., & McMahan, B. (2019). Natural language processing with PyTorch: build intelligent language applications using deep learning. \" O'Reilly Media, Inc.\".\n",
    "class EmbeddingUtil(object):\n",
    "    \"\"\" A wrapper around pre-trained word vectors and their use \"\"\"\n",
    "    def __init__(self, word_to_index, word_vectors):\n",
    "        \"\"\"\n",
    "        Args:\n",
    "            word_to_index (dict): mapping from word to integers\n",
    "            word_vectors (list of numpy arrays)\n",
    "        \"\"\"\n",
    "        self.word_to_index = word_to_index\n",
    "        self.word_vectors = word_vectors\n",
    "        self.index_to_word = {v: k for k, v in self.word_to_index.items()}\n",
    "\n",
    "        self.index = AnnoyIndex(len(word_vectors[0]), metric='angular')\n",
    "        print(\"Building Index!\")\n",
    "        for _, i in self.word_to_index.items():\n",
    "            self.index.add_item(i, self.word_vectors[i])\n",
    "        self.index.build(50)\n",
    "        print(\"Finished!\")\n",
    "        \n",
    "    @classmethod\n",
    "    def from_embeddings_file(cls, embedding_file):\n",
    "        \"\"\"Instantiate from pre-trained vector file.\n",
    "        \n",
    "        Vector file should be of the format:\n",
    "            word0 x0_0 x0_1 x0_2 x0_3 ... x0_N\n",
    "            word1 x1_0 x1_1 x1_2 x1_3 ... x1_N\n",
    "        \n",
    "        Args:\n",
    "            embedding_file (str): location of the file\n",
    "        Returns: \n",
    "            instance of PretrainedEmbeddigns\n",
    "        \"\"\"\n",
    "        word_to_index = {}\n",
    "        word_vectors = []\n",
    "\n",
    "        with open(embedding_file) as fp:\n",
    "            for line in fp.readlines():\n",
    "                line = line.split(\" \")\n",
    "                word = line[0]\n",
    "                vec = np.array([float(x) for x in line[1:]])\n",
    "                \n",
    "                word_to_index[word] = len(word_to_index)\n",
    "                word_vectors.append(vec)\n",
    "                \n",
    "        return cls(word_to_index, word_vectors)\n",
    "    \n",
    "    def get_embedding(self, word):\n",
    "        \"\"\"\n",
    "        Args:\n",
    "            word (str)\n",
    "        Returns\n",
    "            an embedding (numpy.ndarray)\n",
    "        \"\"\"\n",
    "        return self.word_vectors[self.word_to_index[word]]\n",
    "\n",
    "    def get_closest_to_vector(self, vector, n=1):\n",
    "        \"\"\"Given a vector, return its n nearest neighbors\n",
    "        \n",
    "        Args:\n",
    "            vector (np.ndarray): should match the size of the vectors \n",
    "                in the Annoy index\n",
    "            n (int): the number of neighbors to return\n",
    "        Returns:\n",
    "            [str, str, ...]: words that are nearest to the given vector. \n",
    "                The words are not ordered by distance \n",
    "        \"\"\"\n",
    "        nn_indices = self.index.get_nns_by_vector(vector, n)\n",
    "        return [self.index_to_word[neighbor] for neighbor in nn_indices]\n",
    "    \n",
    "    def compute_and_print_analogy(self, word1, word2, word3):\n",
    "        \"\"\"Prints the solutions to analogies using word embeddings\n",
    "\n",
    "        Analogies are word1 is to word2 as word3 is to __\n",
    "        This method will print: word1 : word2 :: word3 : word4\n",
    "        \n",
    "        Args:\n",
    "            word1 (str)\n",
    "            word2 (str)\n",
    "            word3 (str)\n",
    "        \"\"\"\n",
    "        vec1 = self.get_embedding(word1)\n",
    "        vec2 = self.get_embedding(word2)\n",
    "        vec3 = self.get_embedding(word3)\n",
    "\n",
    "        # now compute the fourth word's embedding!\n",
    "        spatial_relationship = vec2 - vec1\n",
    "        vec4 = vec3 + spatial_relationship\n",
    "\n",
    "        closest_words = self.get_closest_to_vector(vec4, n=4)\n",
    "        existing_words = set([word1, word2, word3])\n",
    "        closest_words = [word for word in closest_words \n",
    "                             if word not in existing_words] \n",
    "\n",
    "        if len(closest_words) == 0:\n",
    "            print(\"Could not find nearest neighbors for the computed vector!\")\n",
    "            return\n",
    "        \n",
    "        for word4 in closest_words:\n",
    "            print(\"{} : {} :: {} : {}\".format(word1, word2, word3, word4))"
   ]
  },
  {
   "cell_type": "code",
   "execution_count": null,
   "id": "c87a10de-0ac2-4116-864c-7ddd7ec9e197",
   "metadata": {
    "colab": {
     "base_uri": "https://localhost:8080/"
    },
    "executionInfo": {
     "elapsed": 55375,
     "status": "ok",
     "timestamp": 1634141274702,
     "user": {
      "displayName": "Colin Bannard",
      "photoUrl": "https://lh3.googleusercontent.com/a-/AOh14Ggu3NcIkMWzsy6zxo7AXqwviYA_hgjuzVq_zKWseQ=s64",
      "userId": "01716265927303848317"
     },
     "user_tz": -60
    },
    "id": "c87a10de-0ac2-4116-864c-7ddd7ec9e197",
    "outputId": "892cf887-29bd-4743-ad57-bc6edae16c30"
   },
   "outputs": [],
   "source": [
    "embeddings = EmbeddingUtil.from_embeddings_file('np.txt')"
   ]
  },
  {
   "cell_type": "code",
   "execution_count": null,
   "id": "438ad7ef-c20e-402d-ade5-9eda1bad6983",
   "metadata": {
    "colab": {
     "base_uri": "https://localhost:8080/"
    },
    "executionInfo": {
     "elapsed": 433,
     "status": "ok",
     "timestamp": 1634141320085,
     "user": {
      "displayName": "Colin Bannard",
      "photoUrl": "https://lh3.googleusercontent.com/a-/AOh14Ggu3NcIkMWzsy6zxo7AXqwviYA_hgjuzVq_zKWseQ=s64",
      "userId": "01716265927303848317"
     },
     "user_tz": -60
    },
    "id": "438ad7ef-c20e-402d-ade5-9eda1bad6983",
    "outputId": "1ea8db10-08e1-4812-cd32-689b17ca0c1e"
   },
   "outputs": [],
   "source": [
    "vec=embeddings.get_embedding(\"child\")\n",
    "print(vec)"
   ]
  },
  {
   "cell_type": "code",
   "execution_count": null,
   "id": "f6119bba-e949-48ff-ad40-0b826968177a",
   "metadata": {
    "colab": {
     "base_uri": "https://localhost:8080/"
    },
    "executionInfo": {
     "elapsed": 500,
     "status": "ok",
     "timestamp": 1634141322076,
     "user": {
      "displayName": "Colin Bannard",
      "photoUrl": "https://lh3.googleusercontent.com/a-/AOh14Ggu3NcIkMWzsy6zxo7AXqwviYA_hgjuzVq_zKWseQ=s64",
      "userId": "01716265927303848317"
     },
     "user_tz": -60
    },
    "id": "f6119bba-e949-48ff-ad40-0b826968177a",
    "outputId": "5abd6fb7-9ec9-476a-bfd5-9aad284f6b4f"
   },
   "outputs": [],
   "source": [
    "embeddings.get_closest_to_vector(vec, n=4)"
   ]
  },
  {
   "cell_type": "markdown",
   "id": "d3fcdc3b-ee92-4181-b901-6fe7ff50cd64",
   "metadata": {
    "id": "d3fcdc3b-ee92-4181-b901-6fe7ff50cd64"
   },
   "source": [
    "# Pretrained Embeddings\n",
    "Vectors are best when learned from very large text collections. However learning such vectors, particular using neural network methods, is very computationally intensive. As a result most people make use of pretrained embeddings such as those found at\n",
    "\n",
    "https://code.google.com/archive/p/word2vec/\n",
    "\n",
    "or\n",
    "\n",
    "https://nlp.stanford.edu/projects/glove/\n"
   ]
  },
  {
   "cell_type": "code",
   "execution_count": null,
   "id": "5c47b377-d8ea-4b23-8448-17128d849f0b",
   "metadata": {
    "colab": {
     "base_uri": "https://localhost:8080/"
    },
    "executionInfo": {
     "elapsed": 165480,
     "status": "ok",
     "timestamp": 1634144089618,
     "user": {
      "displayName": "Colin Bannard",
      "photoUrl": "https://lh3.googleusercontent.com/a-/AOh14Ggu3NcIkMWzsy6zxo7AXqwviYA_hgjuzVq_zKWseQ=s64",
      "userId": "01716265927303848317"
     },
     "user_tz": -60
    },
    "id": "5c47b377-d8ea-4b23-8448-17128d849f0b",
    "outputId": "c7282b7d-ff0d-46ed-9d97-a7c3ec07c300"
   },
   "outputs": [],
   "source": [
    "!wget http://nlp.stanford.edu/data/glove.6B.zip"
   ]
  },
  {
   "cell_type": "code",
   "execution_count": null,
   "id": "2rH67GAblByf",
   "metadata": {
    "executionInfo": {
     "elapsed": 28757,
     "status": "ok",
     "timestamp": 1634144143484,
     "user": {
      "displayName": "Colin Bannard",
      "photoUrl": "https://lh3.googleusercontent.com/a-/AOh14Ggu3NcIkMWzsy6zxo7AXqwviYA_hgjuzVq_zKWseQ=s64",
      "userId": "01716265927303848317"
     },
     "user_tz": -60
    },
    "id": "2rH67GAblByf"
   },
   "outputs": [],
   "source": [
    "!unzip -q glove.6B.zip.2"
   ]
  },
  {
   "cell_type": "code",
   "execution_count": null,
   "id": "baf61f39-face-4645-a849-7f03c840f4bd",
   "metadata": {
    "colab": {
     "base_uri": "https://localhost:8080/"
    },
    "executionInfo": {
     "elapsed": 53492,
     "status": "ok",
     "timestamp": 1634144201208,
     "user": {
      "displayName": "Colin Bannard",
      "photoUrl": "https://lh3.googleusercontent.com/a-/AOh14Ggu3NcIkMWzsy6zxo7AXqwviYA_hgjuzVq_zKWseQ=s64",
      "userId": "01716265927303848317"
     },
     "user_tz": -60
    },
    "id": "baf61f39-face-4645-a849-7f03c840f4bd",
    "outputId": "3b35fa60-26f8-4a0d-fbb5-7abb3056f8dd"
   },
   "outputs": [],
   "source": [
    "embeddings = EmbeddingUtil.from_embeddings_file('glove.6B.100d.txt')"
   ]
  },
  {
   "cell_type": "code",
   "execution_count": null,
   "id": "baf9a9d2-eff9-47aa-9e85-aad713a6c19c",
   "metadata": {
    "colab": {
     "base_uri": "https://localhost:8080/"
    },
    "executionInfo": {
     "elapsed": 370,
     "status": "ok",
     "timestamp": 1634144595816,
     "user": {
      "displayName": "Colin Bannard",
      "photoUrl": "https://lh3.googleusercontent.com/a-/AOh14Ggu3NcIkMWzsy6zxo7AXqwviYA_hgjuzVq_zKWseQ=s64",
      "userId": "01716265927303848317"
     },
     "user_tz": -60
    },
    "id": "baf9a9d2-eff9-47aa-9e85-aad713a6c19c",
    "outputId": "588edaaa-4cde-46ce-a07d-4f052ad5b43f"
   },
   "outputs": [],
   "source": [
    "vec=embeddings.get_embedding(\"child\")\n",
    "print(vec)"
   ]
  },
  {
   "cell_type": "code",
   "execution_count": null,
   "id": "382d5835-77ed-4fb4-9452-cae913ebbc61",
   "metadata": {
    "colab": {
     "base_uri": "https://localhost:8080/"
    },
    "executionInfo": {
     "elapsed": 345,
     "status": "ok",
     "timestamp": 1634144597746,
     "user": {
      "displayName": "Colin Bannard",
      "photoUrl": "https://lh3.googleusercontent.com/a-/AOh14Ggu3NcIkMWzsy6zxo7AXqwviYA_hgjuzVq_zKWseQ=s64",
      "userId": "01716265927303848317"
     },
     "user_tz": -60
    },
    "id": "382d5835-77ed-4fb4-9452-cae913ebbc61",
    "outputId": "99c10e92-3745-4fbc-98ed-2086afb62241"
   },
   "outputs": [],
   "source": [
    "embeddings.get_closest_to_vector(vec, n=4)"
   ]
  },
  {
   "cell_type": "markdown",
   "id": "47e0b00f-2595-4402-8492-54e0ee364824",
   "metadata": {},
   "source": [
    "Another semantic property of embeddings is their ability to capture relational meanings. In an important early vector space model of cognition, Rumelhart and Abrahamson (1973) proposed the parallelogram model for solving simple analogy problems of the form a is to b as a* is to what?. In such problems, a system given a problem like apple:tree::grape:?, i.e., apple is to tree as  grape is to , and must fill in the word vine.\n",
    "\n",
    "In the parallelogram model, the vector from the word apple to the word tree (= apple − tree) is added to the vector for grape (grape); the nearest word to that point is returned. \n",
    "\n",
    "\n",
    "\n"
   ]
  },
  {
   "cell_type": "code",
   "execution_count": null,
   "id": "065739ee-7ef2-4471-b33e-6d61c41cf7f2",
   "metadata": {
    "colab": {
     "base_uri": "https://localhost:8080/"
    },
    "executionInfo": {
     "elapsed": 330,
     "status": "ok",
     "timestamp": 1634144602395,
     "user": {
      "displayName": "Colin Bannard",
      "photoUrl": "https://lh3.googleusercontent.com/a-/AOh14Ggu3NcIkMWzsy6zxo7AXqwviYA_hgjuzVq_zKWseQ=s64",
      "userId": "01716265927303848317"
     },
     "user_tz": -60
    },
    "id": "065739ee-7ef2-4471-b33e-6d61c41cf7f2",
    "outputId": "d9448813-9ae9-415c-927f-6046925be7e3"
   },
   "outputs": [],
   "source": [
    "embeddings.compute_and_print_analogy('fly', 'plane', 'sail')"
   ]
  }
 ],
 "metadata": {
  "colab": {
   "collapsed_sections": [],
   "name": "Week_3_Seminar.ipynb",
   "provenance": []
  },
  "kernelspec": {
   "display_name": "Python 3 (ipykernel)",
   "language": "python",
   "name": "python3"
  },
  "language_info": {
   "codemirror_mode": {
    "name": "ipython",
    "version": 3
   },
   "file_extension": ".py",
   "mimetype": "text/x-python",
   "name": "python",
   "nbconvert_exporter": "python",
   "pygments_lexer": "ipython3",
   "version": "3.8.12"
  }
 },
 "nbformat": 4,
 "nbformat_minor": 5
}
