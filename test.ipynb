{
  "nbformat": 4,
  "nbformat_minor": 0,
  "metadata": {
    "kernelspec": {
      "display_name": "Python 3",
      "language": "python",
      "name": "python3"
    },
    "language_info": {
      "codemirror_mode": {
        "name": "ipython",
        "version": 3
      },
      "file_extension": ".py",
      "mimetype": "text/x-python",
      "name": "python",
      "nbconvert_exporter": "python",
      "pygments_lexer": "ipython3",
      "version": "3.7.6"
    },
    "colab": {
      "name": "test.ipynb",
      "provenance": []
    }
  },
  "cells": [
    {
      "cell_type": "code",
      "metadata": {
        "id": "jDtrhDW7jWeo",
        "outputId": "e703221b-6ba4-415f-e7da-57641860eb57",
        "colab": {
          "base_uri": "https://localhost:8080/"
        }
      },
      "source": [
        "print(\"this is a notebook\")"
      ],
      "execution_count": 3,
      "outputs": [
        {
          "output_type": "stream",
          "text": [
            "this is a notebook\n"
          ],
          "name": "stdout"
        }
      ]
    },
    {
      "cell_type": "code",
      "metadata": {
        "id": "0v3ImQz7nVR4",
        "outputId": "406c6d7f-5bfe-4e22-aa7c-59cd9005ce0a",
        "colab": {
          "base_uri": "https://localhost:8080/"
        }
      },
      "source": [
        "from urllib.request import urlopen\n",
        "url = \"https://raw.githubusercontent.com/cbannard/compling/main/sample.txt\"\n",
        "data = urlopen(url)\n",
        "\n",
        "for line in data:\n",
        "  print(line)"
      ],
      "execution_count": 11,
      "outputs": [
        {
          "output_type": "stream",
          "text": [
            "b'frankie is a good dog\\n'\n",
            "b'pudding is a good cat\\n'\n"
          ],
          "name": "stdout"
        }
      ]
    }
  ]
}