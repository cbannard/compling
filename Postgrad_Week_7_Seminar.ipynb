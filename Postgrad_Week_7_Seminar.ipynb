{
 "cells": [
  {
   "cell_type": "markdown",
   "id": "4b4ff28c",
   "metadata": {},
   "source": [
    "# LELA32051 Computational Linguistics Week 7\n",
    "\n",
    "This week we are going to take a look at an important component of modern task-based dialogue systems - intent classification. This is also the topic of your coursework assignment. The notebook we are going to use is here:\n",
    "\n",
    "\n",
    "\n",
    "\n",
    "\n"
   ]
  }
 ],
 "metadata": {
  "kernelspec": {
   "display_name": "Python 3",
   "language": "python",
   "name": "python3"
  },
  "language_info": {
   "codemirror_mode": {
    "name": "ipython",
    "version": 3
   },
   "file_extension": ".py",
   "mimetype": "text/x-python",
   "name": "python",
   "nbconvert_exporter": "python",
   "pygments_lexer": "ipython3",
   "version": "3.8.8"
  }
 },
 "nbformat": 4,
 "nbformat_minor": 5
}
