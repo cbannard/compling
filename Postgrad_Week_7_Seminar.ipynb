{
 "cells": [
  {
   "cell_type": "markdown",
   "id": "20e784e4",
   "metadata": {},
   "source": [
    "# LELA70331 Computational Linguistics Week 7\n",
    "\n",
    "This week we are going to take a look at an important component of modern task-based dialogue systems - intent classification. This is also the topic of your coursework assignment. The notebook we are going to use is [here](https://githubtocolab.com/cbannard/compling/blob/main/LELA70331_Coursework.ipynb)\n",
    "\n",
    "\n",
    "\n",
    "\n",
    "\n"
   ]
  },
  {
   "attachments": {},
   "cell_type": "markdown",
   "id": "5b0a5917",
   "metadata": {},
   "source": [
    "In working through the notebook I will ask you build a classifier that can correctly classify the intents of all the following utterances:\n",
    "\n",
    "\n",
    "\n",
    "PlayMusic: <br> play the weather girls                                              <br><br>\n",
    "AddToPlaylist:<br> add this to my italian film soundtrack playlist                     <br><br> \n",
    "RateBook:<br> give the restaurant guidebook 5 stars                               <br><br>\n",
    "SearchScreeningEvent:<br> find screenings of the book thief at around 7                        <br><br> \n",
    "BookRestaurant:<br> book me a table outside for 2 for dinner at the national theatre restaurant <br><br>\n",
    "GetWeather:<br> will it be warm enough to eat dinner outside at around 7 tonight <br><br>\n",
    "SearchCreativeWork:<br> find me songs films or books about restaurants                     <br><br>"
   ]
  },
  {
   "cell_type": "code",
   "execution_count": null,
   "id": "b365bd5f",
   "metadata": {},
   "outputs": [],
   "source": []
  }
 ],
 "metadata": {
  "kernelspec": {
   "display_name": "Python 3",
   "language": "python",
   "name": "python3"
  },
  "language_info": {
   "codemirror_mode": {
    "name": "ipython",
    "version": 3
   },
   "file_extension": ".py",
   "mimetype": "text/x-python",
   "name": "python",
   "nbconvert_exporter": "python",
   "pygments_lexer": "ipython3",
   "version": "3.8.8"
  }
 },
 "nbformat": 4,
 "nbformat_minor": 5
}
