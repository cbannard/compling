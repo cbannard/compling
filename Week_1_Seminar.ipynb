{
 "cells": [
  {
   "cell_type": "markdown",
   "id": "7ac18e78",
   "metadata": {},
   "source": [
    "# LELA32051 Computational Linguistics Week 1\n",
    "## What is Python?\n",
    "\n",
    "When we talk about data in computational linguistics we usually mean text data or audio files. While this data is meaningful to us, to the computer data is always just sequences of numbers. So to a computer the character i is 1101001. Fortunately, we never have to engage with this numeric representation - we can input an i into a computer and it will be converted into the computer's language for us.\n",
    "\n",
    "A similar situation arises with the instructions that a computer applies to data. The instructions that the computer sees are in a purely numeric format known as machine code. Fortunately, we as users do not need to engage with machine code. Instead, we use what is known as a programming language. This is a much easier to read and write language that we input and which is converted to machine code for us.\n",
    "\n",
    "The programming language we will employ for this module is called Python."
   ]
  },
  {
   "cell_type": "markdown",
   "id": "f9acedd8",
   "metadata": {},
   "source": [
    "## Variables and datatypes\n",
    "Data in Python programs is manipulated using variables. A variable is like a box in which you can store information of any kind. You assign data to variables using the assignment operator =. For example you can store the number 10 as the variable i as follows:"
   ]
  },
  {
   "cell_type": "code",
   "execution_count": null,
   "id": "f9906764",
   "metadata": {
    "collapsed": true
   },
   "outputs": [],
   "source": [
    "i = 10"
   ]
  },
  {
   "cell_type": "markdown",
   "id": "459f4508",
   "metadata": {},
   "source": [
    "Once stored these variables can be manipulated, for example using the standard mathematical operators for addition \"+\", subtraction \"-\", multiplication \"*\" and division \"/\". For example:"
   ]
  },
  {
   "cell_type": "code",
   "execution_count": null,
   "id": "e1b8536a",
   "metadata": {
    "collapsed": true
   },
   "outputs": [],
   "source": [
    "i+1*3/2"
   ]
  },
  {
   "cell_type": "markdown",
   "id": "9645372d",
   "metadata": {},
   "source": [
    "Data in Python has different types. i, as a whole number, is an integer, or int. The output from the operations above, since it contains a decimal point is a floating point number or float. There are other types of numbers in Python but it is these two you will work with most.\n",
    "\n",
    "Variables can also be used to store a letter or a sequence of letters, known as a string:"
   ]
  },
  {
   "cell_type": "code",
   "execution_count": null,
   "id": "ddecf601",
   "metadata": {
    "collapsed": true
   },
   "outputs": [],
   "source": [
    "j = \"My name is Harry\""
   ]
  },
  {
   "cell_type": "markdown",
   "id": "ec0cc6b0",
   "metadata": {},
   "source": [
    "The strings can be combined using the \"+\" symbol which when applied to strings functions as a concatenation operator: "
   ]
  },
  {
   "cell_type": "code",
   "execution_count": null,
   "id": "7005e36f",
   "metadata": {
    "collapsed": true
   },
   "outputs": [],
   "source": [
    "k = j + \" Kane\""
   ]
  },
  {
   "cell_type": "markdown",
   "id": "1f38b300",
   "metadata": {},
   "source": [
    "Once you have stored information in a variable, you can print it as follows:"
   ]
  },
  {
   "cell_type": "code",
   "execution_count": null,
   "id": "5a86d8f5",
   "metadata": {
    "collapsed": true
   },
   "outputs": [],
   "source": [
    "print(k)"
   ]
  },
  {
   "cell_type": "markdown",
   "id": "655ffe07",
   "metadata": {},
   "source": [
    "You can also print a series of variables as follows:"
   ]
  },
  {
   "cell_type": "code",
   "execution_count": null,
   "id": "4a056c33",
   "metadata": {
    "collapsed": true
   },
   "outputs": [],
   "source": [
    "print(j + \"Kane\")"
   ]
  },
  {
   "cell_type": "markdown",
   "id": "28516898",
   "metadata": {},
   "source": [
    "The print function however expects all variables that are concatenated in this way to be of the same data type, so if you mix them you will get an error message"
   ]
  },
  {
   "cell_type": "code",
   "execution_count": null,
   "id": "5125df97",
   "metadata": {
    "collapsed": true
   },
   "outputs": [],
   "source": [
    "print(k + \" and my shirt number is \" + i)"
   ]
  },
  {
   "cell_type": "markdown",
   "id": "d0772e52",
   "metadata": {},
   "source": [
    "You can avoid this by explicitly converting the type of your variables as in the follows. To change an object stored in a variable x to an int or a float you would write int(x) or float(x) respectively."
   ]
  },
  {
   "cell_type": "code",
   "execution_count": null,
   "id": "8619e2e5",
   "metadata": {
    "collapsed": true
   },
   "outputs": [],
   "source": [
    "print(k + \" and my shirt number is \" + str(i))"
   ]
  },
  {
   "cell_type": "markdown",
   "id": "2605038d",
   "metadata": {},
   "source": [
    "# A brief mention of functions\n",
    "\n",
    "The commands print() and str() we used above are what known as functions. These are operations that can be applied to entities in our code. These are a very important part of Python programming and later in the module we will look at writing our own functions. For now I just want to mention that there are a number of useful built-in functions that can be applied to strings. A list is here: https://www.w3schools.com/python/python_ref_string.asp\n",
    "\n",
    "Here are a couple of examples: "
   ]
  },
  {
   "cell_type": "code",
   "execution_count": null,
   "id": "a2ab14c4",
   "metadata": {
    "collapsed": true
   },
   "outputs": [],
   "source": [
    "name=\"tom\"\n",
    "str.capitalize(name) "
   ]
  },
  {
   "cell_type": "code",
   "execution_count": null,
   "id": "ceb6e258",
   "metadata": {
    "collapsed": true
   },
   "outputs": [],
   "source": [
    "str.upper(name)"
   ]
  },
  {
   "cell_type": "markdown",
   "id": "7e7498a1",
   "metadata": {},
   "source": [
    "Exercise: Use a function to turn the name tom into the name tommy"
   ]
  },
  {
   "cell_type": "code",
   "execution_count": null,
   "id": "67ad44ab",
   "metadata": {
    "collapsed": true
   },
   "outputs": [],
   "source": []
  },
  {
   "cell_type": "markdown",
   "id": "929b3bab",
   "metadata": {},
   "source": [
    "# Lists\n",
    "\n",
    "So far I have represented sentences as single strings. For most purposes in computational linguistics we don't want to do this - we want instead to represent them in ways that recognizes the word boundaries. In order to do this we often represent sentences as lists of words, each of which is represented as a string. A list of strings can be created by putting words (as strings in quotes) inside square brackets as in the following example:"
   ]
  },
  {
   "cell_type": "code",
   "execution_count": null,
   "id": "3a5be46f",
   "metadata": {
    "collapsed": true
   },
   "outputs": [],
   "source": [
    "sentence = [\"this\", \"is\", \"a\", \"sentence\"]"
   ]
  },
  {
   "cell_type": "markdown",
   "id": "e10e5a31",
   "metadata": {},
   "source": [
    "We can print lists of words as a single string when needed as follows. The character in the quotes before \".join\" sets the character to be printed between the elements of the list. Here we use a space."
   ]
  },
  {
   "cell_type": "code",
   "execution_count": null,
   "id": "39ec0d58",
   "metadata": {
    "collapsed": true
   },
   "outputs": [],
   "source": [
    "print(\" \".join(sentence))"
   ]
  },
  {
   "cell_type": "markdown",
   "id": "526765e3",
   "metadata": {},
   "source": [
    "However we can also select elements from within the list. The entries in a list are indexed numberically starting with zero. So the first element is sentence[0] and the last element of this four element list is sentence[3]. These can then be select for printing as follows:"
   ]
  },
  {
   "cell_type": "code",
   "execution_count": null,
   "id": "b7519cd5",
   "metadata": {
    "collapsed": true
   },
   "outputs": [],
   "source": [
    "print(sentence[2])"
   ]
  },
  {
   "cell_type": "markdown",
   "id": "568a3748",
   "metadata": {},
   "source": [
    "We can also select subsequences of entries, by specifying a range as follows. Notice that the second character in the range isn't included - so 0:2 means from 0 up to the number before 2."
   ]
  },
  {
   "cell_type": "code",
   "execution_count": null,
   "id": "2f15bd8c",
   "metadata": {
    "collapsed": true
   },
   "outputs": [],
   "source": [
    "print(\" \".join(sentence[0:2]))"
   ]
  },
  {
   "cell_type": "markdown",
   "id": "fae74c0f",
   "metadata": {},
   "source": [
    "This allows us to, for example, insert elements in the middle of sentences as follows:"
   ]
  },
  {
   "cell_type": "code",
   "execution_count": null,
   "id": "82e133f3",
   "metadata": {
    "collapsed": true
   },
   "outputs": [],
   "source": [
    "print(\" \".join(sentence[0:3]) + \" short \" + sentence[3])"
   ]
  },
  {
   "cell_type": "markdown",
   "id": "a78de597",
   "metadata": {},
   "source": [
    "Exercise: create a sentence in list form for the sequence \"George is a cat\". Then use substring selection to produce the sentence \"George is a big cat\"."
   ]
  },
  {
   "cell_type": "code",
   "execution_count": null,
   "id": "fd68d4c6",
   "metadata": {
    "collapsed": true
   },
   "outputs": [],
   "source": []
  },
  {
   "cell_type": "markdown",
   "id": "3f601ea5",
   "metadata": {},
   "source": [
    "Like strings, lists have their own built in functions that you can make use of:\n",
    "https://www.w3schools.com/python/python_ref_list.asp"
   ]
  },
  {
   "cell_type": "markdown",
   "id": "b3a95a86",
   "metadata": {},
   "source": [
    "# Loading data\n",
    "\n",
    "Computational linguistics involves handling text data. We saw that we can type in a string of characters, or indeed lists of words, above. However instead of typing in data, we often want to load it from files.\n",
    "Download this file to your computer:\n",
    "https://www.gutenberg.org/files/2554/2554-0.txt\n",
    "\n",
    "If you are using Google Colab then run the code immediately below. Otherwise just put it in the same folder as this notebook.We can also load data directly from a web address without downloading it first, but that will involve some additional preliminary steps that require explanation so I will leave it for now."
   ]
  },
  {
   "cell_type": "code",
   "execution_count": null,
   "id": "1d6ca39b",
   "metadata": {
    "collapsed": true
   },
   "outputs": [],
   "source": [
    "# If using colab\n",
    "from google.colab import files\n",
    "files.upload() "
   ]
  },
  {
   "cell_type": "code",
   "execution_count": null,
   "id": "90044a37",
   "metadata": {
    "collapsed": true
   },
   "outputs": [],
   "source": [
    "f = open('2554-0.txt')\n",
    "raw = f.read()\n",
    "chapter_one = raw[5464:23725]\n",
    "print(chapter_one)"
   ]
  },
  {
   "cell_type": "markdown",
   "id": "aba8b86e",
   "metadata": {},
   "source": [
    "As you will notice this reads texts in as single strings. As discussed before we usually want to represent sentences in a way that reflects word boundaries. The simplest way to do it is to split on spaces. As we will see there are all sorts of problems with doing this, but for now we'll ignore that and use a built in string function split(). In order to make sure it deals with full stops as we would like we will also use the replace function to separate them from the ends of words."
   ]
  },
  {
   "cell_type": "code",
   "execution_count": null,
   "id": "6a290b73",
   "metadata": {
    "collapsed": true
   },
   "outputs": [],
   "source": [
    "chapter_one = chapter_one.replace(\".\",\" .\")\n",
    "chapter_one_tokens = str.split(chapter_one)\n",
    "print(chapter_one_tokens)"
   ]
  },
  {
   "cell_type": "markdown",
   "id": "85394476",
   "metadata": {},
   "source": [
    "# Iterating/for loops\n",
    "\n",
    "Humans reading texts do so one word at a time. The same is often true for computers. This is most commonly performed using a \"for loop\". This can be straightforwardly implemented for lists. In the following code we iterate through the list printing each entry as we go. Note that the end=\"\" in the print statement tells it to end each printed token with a space rather than a new line which is the default."
   ]
  },
  {
   "cell_type": "code",
   "execution_count": null,
   "id": "4bb2115a",
   "metadata": {
    "collapsed": true
   },
   "outputs": [],
   "source": [
    "for word in chapter_one_tokens:\n",
    "    print(word, end=\" \")"
   ]
  },
  {
   "cell_type": "markdown",
   "id": "15f92b70",
   "metadata": {},
   "source": [
    "You will notice that in the loop above the print statement is indented. We say that a statement that occurs within a loop is nested within that loop. Any statement that is nested inside another has to be indented in Python. The standard way to indent is to use 4 spaces, although you can also use a tab. \n",
    "\n",
    "One way in which we might use a for loop is to count things. This can be performed as follows."
   ]
  },
  {
   "cell_type": "code",
   "execution_count": null,
   "id": "c98155bd",
   "metadata": {
    "collapsed": true
   },
   "outputs": [],
   "source": [
    "k=0\n",
    "for word in chapter_one_tokens:\n",
    "    k=k+1\n",
    "print(k)"
   ]
  },
  {
   "cell_type": "markdown",
   "id": "9e5a7a8a",
   "metadata": {},
   "source": [
    "# Booleans and Conditionals\n",
    "\n",
    "In addition to ints, floats and strings a data type that you will use a lot is the boolean. A boolean can have just two values, true or false. In order to see how this arises, it'll be useful to introduce the equality operator \"==\". When used between two element a and b it asks whether they are equal. For example:"
   ]
  },
  {
   "cell_type": "code",
   "execution_count": null,
   "id": "707d9832",
   "metadata": {
    "collapsed": true
   },
   "outputs": [],
   "source": [
    "2==2"
   ]
  },
  {
   "cell_type": "code",
   "execution_count": null,
   "id": "ce56a860",
   "metadata": {
    "collapsed": true
   },
   "outputs": [],
   "source": [
    "2==3"
   ]
  },
  {
   "cell_type": "code",
   "execution_count": null,
   "id": "1a91600b",
   "metadata": {
    "collapsed": true
   },
   "outputs": [],
   "source": [
    "chapter_one_tokens[0] == \"On\""
   ]
  },
  {
   "cell_type": "code",
   "execution_count": null,
   "id": "27773fbe",
   "metadata": {
    "collapsed": true
   },
   "outputs": [],
   "source": [
    "chapter_one_tokens[0] == \"a\""
   ]
  },
  {
   "cell_type": "markdown",
   "id": "1bc3d162",
   "metadata": {},
   "source": [
    "We can similarly check whether two elements are unequal using the operator \"!=\".\n",
    "\n",
    "Other familar comparison operators like less than < and greater than > are also available and also return booleans that indicate whether a statement holds."
   ]
  },
  {
   "cell_type": "code",
   "execution_count": null,
   "id": "590040ee",
   "metadata": {
    "collapsed": true
   },
   "outputs": [],
   "source": [
    "2 > 1"
   ]
  },
  {
   "cell_type": "markdown",
   "id": "52fda2d2",
   "metadata": {},
   "source": [
    "The way in which you will most frequently encounter booleans is in if statements. This can be used to control the computer's behaviour based on whether a particular condition holds. For example:"
   ]
  },
  {
   "cell_type": "code",
   "execution_count": null,
   "id": "2f74038e",
   "metadata": {
    "collapsed": true
   },
   "outputs": [],
   "source": [
    "if chapter_one_tokens[0] == \"On\":\n",
    "    print(chapter_one_tokens[0])"
   ]
  },
  {
   "cell_type": "code",
   "execution_count": null,
   "id": "32f669e8",
   "metadata": {
    "collapsed": true
   },
   "outputs": [],
   "source": [
    "if chapter_one_tokens[0] != \"a\":\n",
    "    print(chapter_one_tokens[0])"
   ]
  },
  {
   "cell_type": "markdown",
   "id": "f8f2d36d",
   "metadata": {},
   "source": [
    "Combining this with a for loop of the kind we saw above we can read through the sentences and find all the instances of a particular word. "
   ]
  },
  {
   "cell_type": "code",
   "execution_count": null,
   "id": "db0b9f8b",
   "metadata": {
    "collapsed": true
   },
   "outputs": [],
   "source": [
    "k=0\n",
    "for token in chapter_one_tokens:\n",
    "    if token == \"a\":\n",
    "        k = k+1\n",
    "print(k)"
   ]
  },
  {
   "cell_type": "markdown",
   "id": "1344f88a",
   "metadata": {},
   "source": [
    "Activity: Use a for loop to print out the text as we did above but print each sentence on a new line. For simplicity we can assume that all sentences end with a \".\" character."
   ]
  },
  {
   "cell_type": "code",
   "execution_count": null,
   "id": "4cad0030",
   "metadata": {
    "collapsed": true
   },
   "outputs": [],
   "source": []
  },
  {
   "cell_type": "markdown",
   "id": "b6f1ffab",
   "metadata": {},
   "source": [
    "# Making use of libraries - Natural Language Toolkit"
   ]
  },
  {
   "cell_type": "code",
   "execution_count": null,
   "id": "e9dfa932",
   "metadata": {
    "collapsed": true
   },
   "outputs": [],
   "source": []
  },
  {
   "cell_type": "markdown",
   "id": "d60a2b8a",
   "metadata": {},
   "source": [
    "So far in this session we have been looking at the core Python programming language. However much of the time this semester we will be making use of not just core Python but also powerful libraries for natural language processing and machine learning. Today I want to introduce the first of these - \"Natural Language Toolkit\" or nltk - in order to explain how libraries work.\n",
    "\n",
    "The first thing we need to do is to make sure we have the libraries we want installed. On Google Colab they are all already there. If your are using your own machine you will have to install it using the following command."
   ]
  },
  {
   "cell_type": "code",
   "execution_count": null,
   "id": "5ce18b3c",
   "metadata": {
    "collapsed": true
   },
   "outputs": [],
   "source": [
    "!pip install nltk # If using anaconda"
   ]
  },
  {
   "cell_type": "markdown",
   "id": "75b8fcd3",
   "metadata": {},
   "source": [
    "In order to use the library we then need to import it"
   ]
  },
  {
   "cell_type": "code",
   "execution_count": null,
   "id": "18163496",
   "metadata": {
    "collapsed": true
   },
   "outputs": [],
   "source": [
    "import nltk\n",
    "nltk.download('punkt')"
   ]
  },
  {
   "cell_type": "markdown",
   "id": "709a3544",
   "metadata": {},
   "source": [
    "In this brief intro to Python we have already performed two NLP tasks: word tokenizing and sentence segmentation. These split the input word sequence into words and sentences respectively. They are a surprisingly difficult tasks and we will talk next week about the many different ways these tasks can be accomplished. For now I just want to show that they are tasks that can be performed using nltk, with the tools word_tokenize and sent_tokenize which are now imported."
   ]
  },
  {
   "cell_type": "code",
   "execution_count": null,
   "id": "5b07ef3d",
   "metadata": {
    "collapsed": true
   },
   "outputs": [],
   "source": [
    "chapter_one_tokens = nltk.word_tokenize(chapter_one)\n",
    "print(chapter_one_tokens)"
   ]
  },
  {
   "cell_type": "code",
   "execution_count": null,
   "id": "21b7beff",
   "metadata": {
    "collapsed": true
   },
   "outputs": [],
   "source": [
    "chapter_one_sentences = nltk.sent_tokenize(' '.join(chapter_one_tokens))\n",
    "print(chapter_one_sentences[0])"
   ]
  },
  {
   "cell_type": "markdown",
   "id": "98675eb7",
   "metadata": {},
   "source": [
    "We can also use NLTK to perform versions of the tasks I discussed in my lecture this week. First POS tagging which assigns tags to words using the following tagset:https://www.cs.upc.edu/~nlp/SVMTool/PennTreebank.html"
   ]
  },
  {
   "cell_type": "code",
   "execution_count": null,
   "id": "646df579",
   "metadata": {
    "collapsed": true
   },
   "outputs": [],
   "source": [
    "nltk.download('averaged_perceptron_tagger')\n",
    "nltk.pos_tag(chapter_one_tokens)"
   ]
  },
  {
   "cell_type": "markdown",
   "id": "1c04e8f3",
   "metadata": {},
   "source": [
    "And parsing:"
   ]
  },
  {
   "cell_type": "code",
   "execution_count": null,
   "id": "ab74a642",
   "metadata": {
    "collapsed": true
   },
   "outputs": [],
   "source": [
    "grammar1 = nltk.CFG.fromstring(\"\"\"\n",
    "  S -> NP VP\n",
    "  VP -> V NP | V NP PP\n",
    "  PP -> P NP\n",
    "  V -> \"saw\" | \"ate\" | \"walked\"\n",
    "  NP -> \"John\" | \"Mary\" | \"Bob\" | Det N | Det N PP\n",
    "  Det -> \"a\" | \"an\" | \"the\" | \"my\"\n",
    "  N -> \"man\" | \"dog\" | \"cat\" | \"telescope\" | \"park\"\n",
    "  P -> \"in\" | \"on\" | \"by\" | \"with\"\n",
    "  \"\"\")"
   ]
  },
  {
   "cell_type": "code",
   "execution_count": null,
   "id": "a430a0b1",
   "metadata": {
    "collapsed": true
   },
   "outputs": [],
   "source": [
    "sent = \"Mary saw Bob\".split()\n",
    "rd_parser = nltk.RecursiveDescentParser(grammar1)\n",
    "for tree in rd_parser.parse(sent):\n",
    "    print(tree)"
   ]
  },
  {
   "cell_type": "code",
   "execution_count": null,
   "id": "ebd0da00-76e4-487d-b26d-e0e1d838f7bf",
   "metadata": {
    "collapsed": true
   },
   "outputs": [],
   "source": []
  },
  {
   "cell_type": "code",
   "execution_count": null,
   "id": "4785a26b-63ce-4441-9219-a218332c453f",
   "metadata": {
    "collapsed": true
   },
   "outputs": [],
   "source": []
  }
 ],
 "metadata": {
  "kernelspec": {
   "display_name": "Python 3",
   "language": "python",
   "name": "python3"
  },
  "language_info": {
   "codemirror_mode": {
    "name": "ipython",
    "version": 3
   },
   "file_extension": ".py",
   "mimetype": "text/x-python",
   "name": "python",
   "nbconvert_exporter": "python",
   "pygments_lexer": "ipython3",
   "version": "3.8.8"
  }
 },
 "nbformat": 4,
 "nbformat_minor": 5
}
