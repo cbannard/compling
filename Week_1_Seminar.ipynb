{
 "cells": [
  {
   "cell_type": "markdown",
   "id": "7ac18e78",
   "metadata": {},
   "source": [
    "# LELA32051 Computational Linguistics Week 1\n",
    "## What is Python?\n",
    "\n",
    "When we talk about data in computational linguistics we usually mean text data or audio files. While this data is meaningful to us, to the computer data is always just sequences of numbers. So to a computer the character i is 1101001. Fortunately, we never have to engage with this numeric representation - we can input an i into a computer and it will be converted into the computer's language for us.\n",
    "\n",
    "A similar situation arises with the instructions that a computer applies to data. The instructions that the computer sees are in a purely numeric format known as machine code. Fortunately, we as users do not need to engage with machine code. Instead, we use what is known as a programming language. This is a much easier to read and write language that we input and which is converted to machine code for us.\n",
    "\n",
    "The programming language we will employ for this module is called Python."
   ]
  },
  {
   "cell_type": "markdown",
   "id": "f9acedd8",
   "metadata": {},
   "source": [
    "## Variables and datatypes\n",
    "\n",
    "Data in Python programs is manipulated using variables. A variable is like a box in which you can store information of any kind. You assign data to variables using the assignment operator =. For example you can store the number 103 as the variable i as follows:"
   ]
  },
  {
   "cell_type": "code",
   "execution_count": null,
   "id": "f9906764",
   "metadata": {},
   "outputs": [],
   "source": [
    "i = 103"
   ]
  },
  {
   "cell_type": "markdown",
   "id": "40297ed7",
   "metadata": {},
   "source": [
    "It can also be used to store a letter or a sequence of letters, known as a string:"
   ]
  },
  {
   "cell_type": "code",
   "execution_count": null,
   "id": "2f94a1da",
   "metadata": {},
   "outputs": [],
   "source": [
    "i = \"i am a linguist\""
   ]
  },
  {
   "cell_type": "markdown",
   "id": "a283cb83",
   "metadata": {},
   "source": []
  }
 ],
 "metadata": {
  "kernelspec": {
   "display_name": "Python 3",
   "language": "python",
   "name": "python3"
  },
  "language_info": {
   "codemirror_mode": {
    "name": "ipython",
    "version": 3
   },
   "file_extension": ".py",
   "mimetype": "text/x-python",
   "name": "python",
   "nbconvert_exporter": "python",
   "pygments_lexer": "ipython3",
   "version": "3.8.8"
  }
 },
 "nbformat": 4,
 "nbformat_minor": 5
}
