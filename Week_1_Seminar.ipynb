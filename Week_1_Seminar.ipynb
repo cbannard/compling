{
 "cells": [
  {
   "attachments": {},
   "cell_type": "markdown",
   "id": "b1a47b0d",
   "metadata": {},
   "source": [
    "# LELA32051 Computational Linguistics Week 1\n",
    "## What is a programming language?\n",
    "\n",
    "In the module lecture this week I spoke about computers applying algorithms to input data to produce output data. \n",
    "\n",
    "When we talk about data in computational linguistics what we usually mean text data or audio files. While this data is meaningful to us, to the computer data is always just sequences of numbers. So to a computer the character i is 1101001. Fortunately, we never have to engage with this numeric representation - we can input an i into a computer and it will be converted into the computer's language.\n",
    "\n",
    "A similar situation exists with the instructions that a computer applies to data. The instructions that the computer sees are in a purely numeric format known as machine code. Fortunately, we as users do not need to engage with machine code. Instead, we use what is known as a programming language. This is a much easier to read and write language that we input and which is converted to machine code for us.\n",
    "\n",
    "The programming language we will employ for this module is called Python.\n"
   ]
  },
  {
   "cell_type": "code",
   "execution_count": null,
   "id": "b257ac07",
   "metadata": {},
   "outputs": [],
   "source": []
  }
 ],
 "metadata": {
  "kernelspec": {
   "display_name": "Python 3",
   "language": "python",
   "name": "python3"
  },
  "language_info": {
   "codemirror_mode": {
    "name": "ipython",
    "version": 3
   },
   "file_extension": ".py",
   "mimetype": "text/x-python",
   "name": "python",
   "nbconvert_exporter": "python",
   "pygments_lexer": "ipython3",
   "version": "3.8.8"
  }
 },
 "nbformat": 4,
 "nbformat_minor": 5
}
